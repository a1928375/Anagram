{
 "cells": [
  {
   "cell_type": "markdown",
   "metadata": {},
   "source": [
    "# Mine\n",
    "# 我覺得是O(5n+1)"
   ]
  },
  {
   "cell_type": "code",
   "execution_count": 6,
   "metadata": {},
   "outputs": [
    {
     "name": "stdout",
     "output_type": "stream",
     "text": [
      "True\n",
      "True\n",
      "False\n",
      "True\n",
      "True\n",
      "True\n",
      "False\n",
      "False\n",
      "False\n",
      "6.6 µs ± 1.84 µs per loop (mean ± std. dev. of 7 runs, 100000 loops each)\n"
     ]
    }
   ],
   "source": [
    "def anagram(s1,s2):\n",
    "    \n",
    "    a=[char for char in s1]        #下次可以直接用  a=list(s1) & b=list(s2) => 直接分letters成list\n",
    "    b=[char for char in s2]\n",
    "    \n",
    "    while \" \" in a:               #下次直接在轉list前先用str=str.replace(\" \",\"\").lower() => 更簡單\n",
    "        a.remove (\" \")\n",
    "    \n",
    "    while \" \" in b:\n",
    "        b.remove (\" \")\n",
    "        \n",
    "    for x in a:\n",
    "        if x not in b:              \n",
    "            \n",
    "            return False\n",
    "        \n",
    "        b.remove (x)\n",
    "    \n",
    "    if len(b) != 0:                #此句原先忘記寫 => 一定要寫，當b的letters多於a的letters 才能判端\n",
    "        return False\n",
    "                    \n",
    "    return True\n",
    "\n",
    "print (anagram('dog','god'))\n",
    "\n",
    "print (anagram('clint eastwood','old west action'))\n",
    "\n",
    "print (anagram('aa','bb'))\n",
    "\n",
    "print (anagram('go go go','gggooo'))\n",
    "\n",
    "print (anagram('abc','cba'))\n",
    "\n",
    "print (anagram('hi man','hi     man'))\n",
    "\n",
    "print (anagram('aabbcc','aabbc'))\n",
    "\n",
    "print (anagram('123','1 2'))\n",
    "\n",
    "print (anagram('aabbcc','aabbccccc'))\n",
    "\n",
    "%timeit anagram('clint eastwood','old west action')"
   ]
  },
  {
   "cell_type": "markdown",
   "metadata": {},
   "source": [
    "# Instructor-1\n",
    "# 我覺得是O(2n+log n) = O(2n)"
   ]
  },
  {
   "cell_type": "code",
   "execution_count": 7,
   "metadata": {},
   "outputs": [
    {
     "name": "stdout",
     "output_type": "stream",
     "text": [
      "3 µs ± 566 ns per loop (mean ± std. dev. of 7 runs, 1000000 loops each)\n"
     ]
    }
   ],
   "source": [
    "def anagram(s1,s2):\n",
    "    \n",
    "    # Remove spaces and lowercase letters\n",
    "    s1 = s1.replace(' ','').lower()\n",
    "    s2 = s2.replace(' ','').lower()\n",
    "    \n",
    "    # Return boolean for sorted match.\n",
    "    return sorted(s1) == sorted(s2)\n",
    "\n",
    "%timeit anagram('clint eastwood','old west action')"
   ]
  },
  {
   "cell_type": "markdown",
   "metadata": {},
   "source": [
    "# Instructor-2 \n",
    "# 我覺得是O(5n+1)\n",
    "# preferred solution (不是越短越好，應該是要看big O notation)"
   ]
  },
  {
   "cell_type": "code",
   "execution_count": 8,
   "metadata": {},
   "outputs": [
    {
     "name": "stdout",
     "output_type": "stream",
     "text": [
      "3.13 µs ± 610 ns per loop (mean ± std. dev. of 7 runs, 1000000 loops each)\n"
     ]
    }
   ],
   "source": [
    "def anagram2(s1,s2):\n",
    "    \n",
    "    # Remove spaces and lowercase letters\n",
    "    s1 = s1.replace(' ','').lower()\n",
    "    s2 = s2.replace(' ','').lower()\n",
    "    \n",
    "    # Edge Case to check if same number of letters\n",
    "    if len(s1) != len(s2):\n",
    "        return False\n",
    "    \n",
    "    # Create counting dictionary (Note could use DefaultDict from Collections module)\n",
    "    count = {}  \n",
    "        \n",
    "    # Fill dictionary for first string (add counts)\n",
    "    for letter in s1:\n",
    "        if letter in count:\n",
    "            count[letter] += 1\n",
    "        else:\n",
    "            count[letter] = 1\n",
    "            \n",
    "    # Fill dictionary for second string (subtract counts)\n",
    "    for letter in s2:\n",
    "        if letter in count:\n",
    "            count[letter] -= 1\n",
    "        else:                          #其實不用此else，因為是2 strings等長，所以當s2有s1沒有的letter，count中的key最後一定會無法成為0\n",
    "            count[letter] = 1          #所以不要有此count[letter] = 1，而是直接把底下的判斷式併上來\n",
    "                                       # else:\n",
    "                                       #     return False\n",
    "    # Check that all counts are 0\n",
    "    for k in count:\n",
    "        if count[k] != 0:\n",
    "            return False\n",
    "\n",
    "    # Otherwise they're anagrams\n",
    "    return True\n",
    "\n",
    "%timeit anagram('clint eastwood','old west action')"
   ]
  },
  {
   "cell_type": "markdown",
   "metadata": {},
   "source": [
    "# PS."
   ]
  },
  {
   "cell_type": "markdown",
   "metadata": {},
   "source": [
    "Q: Anyone know why we don't use count[\"letter\"] inside the if statements?\n",
    "\n",
    "For example, when we use something like:    students = {\"name\": \"armando\"}\n",
    "\n",
    "if we want to add something to this dictionary like a phone number, we must say: students[\"phone\"] = 555\n",
    "\n",
    "A: In Anagram solution it is because letter is a variable and does not need to be inside quotation marks."
   ]
  }
 ],
 "metadata": {
  "kernelspec": {
   "display_name": "Python 3",
   "language": "python",
   "name": "python3"
  },
  "language_info": {
   "codemirror_mode": {
    "name": "ipython",
    "version": 3
   },
   "file_extension": ".py",
   "mimetype": "text/x-python",
   "name": "python",
   "nbconvert_exporter": "python",
   "pygments_lexer": "ipython3",
   "version": "3.7.3"
  }
 },
 "nbformat": 4,
 "nbformat_minor": 2
}
